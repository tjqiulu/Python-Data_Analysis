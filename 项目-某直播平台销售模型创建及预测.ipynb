{
 "cells": [
  {
   "cell_type": "markdown",
   "id": "210144cd-b0a4-433d-a9d0-0abeaeaabba4",
   "metadata": {},
   "source": [
    "# 项目-直播平台带货销售模型创建及预测"
   ]
  },
  {
   "cell_type": "markdown",
   "id": "09b708fc-69d8-43f7-8159-93a9ad61a721",
   "metadata": {},
   "source": [
    "### 背景  \n",
    "- 已知某直播平台带货数据\n",
    "- 数据`直播带货.csv`包括字段\n",
    "  > 转发量  \n",
    "  > 流量指数（平台推广力度）  \n",
    "  > 类类热度  \n",
    "  > 成交额  \n",
    "### 需求 ：如何根据历史数据，估计本次直播带货的成交量？"
   ]
  },
  {
   "cell_type": "markdown",
   "id": "25d372d2-2e4c-4c02-8ac1-0a52374ff5f3",
   "metadata": {},
   "source": [
    "- 考虑需求并不复杂，训练数据种类也不多，使用sklearn的线性回归模型"
   ]
  },
  {
   "cell_type": "code",
   "execution_count": 3,
   "id": "d231635d-e89f-43f8-94d8-000470b94c14",
   "metadata": {},
   "outputs": [],
   "source": [
    "#导入相关库,pandas, sklearn, matplotlib, seaborn\n",
    "from sklearn.model_selection import train_test_split\n",
    "import pandas as pd\n",
    "import matplotlib.pyplot as plt\n",
    "import seaborn as sns"
   ]
  },
  {
   "cell_type": "markdown",
   "id": "ab8b827d-13ab-46b9-94b3-5212fe1bf7e0",
   "metadata": {},
   "source": [
    "## 读取数据"
   ]
  },
  {
   "cell_type": "code",
   "execution_count": 4,
   "id": "a79436c3-1090-4833-a72e-35a4792342d9",
   "metadata": {},
   "outputs": [
    {
     "data": {
      "text/html": [
       "<div>\n",
       "<style scoped>\n",
       "    .dataframe tbody tr th:only-of-type {\n",
       "        vertical-align: middle;\n",
       "    }\n",
       "\n",
       "    .dataframe tbody tr th {\n",
       "        vertical-align: top;\n",
       "    }\n",
       "\n",
       "    .dataframe thead th {\n",
       "        text-align: right;\n",
       "    }\n",
       "</style>\n",
       "<table border=\"1\" class=\"dataframe\">\n",
       "  <thead>\n",
       "    <tr style=\"text-align: right;\">\n",
       "      <th></th>\n",
       "      <th>转发量</th>\n",
       "      <th>品类热度</th>\n",
       "      <th>流量推送</th>\n",
       "      <th>成交额</th>\n",
       "    </tr>\n",
       "  </thead>\n",
       "  <tbody>\n",
       "    <tr>\n",
       "      <th>0</th>\n",
       "      <td>2646</td>\n",
       "      <td>7</td>\n",
       "      <td>5</td>\n",
       "      <td>260004</td>\n",
       "    </tr>\n",
       "    <tr>\n",
       "      <th>1</th>\n",
       "      <td>816</td>\n",
       "      <td>4</td>\n",
       "      <td>6</td>\n",
       "      <td>100004</td>\n",
       "    </tr>\n",
       "    <tr>\n",
       "      <th>2</th>\n",
       "      <td>1224</td>\n",
       "      <td>6</td>\n",
       "      <td>5</td>\n",
       "      <td>164502</td>\n",
       "    </tr>\n",
       "    <tr>\n",
       "      <th>3</th>\n",
       "      <td>1261</td>\n",
       "      <td>6</td>\n",
       "      <td>6</td>\n",
       "      <td>163001</td>\n",
       "    </tr>\n",
       "    <tr>\n",
       "      <th>4</th>\n",
       "      <td>1720</td>\n",
       "      <td>7</td>\n",
       "      <td>5</td>\n",
       "      <td>260401</td>\n",
       "    </tr>\n",
       "    <tr>\n",
       "      <th>...</th>\n",
       "      <td>...</td>\n",
       "      <td>...</td>\n",
       "      <td>...</td>\n",
       "      <td>...</td>\n",
       "    </tr>\n",
       "    <tr>\n",
       "      <th>1455</th>\n",
       "      <td>1121</td>\n",
       "      <td>4</td>\n",
       "      <td>5</td>\n",
       "      <td>140001</td>\n",
       "    </tr>\n",
       "    <tr>\n",
       "      <th>1456</th>\n",
       "      <td>1657</td>\n",
       "      <td>6</td>\n",
       "      <td>3</td>\n",
       "      <td>163503</td>\n",
       "    </tr>\n",
       "    <tr>\n",
       "      <th>1457</th>\n",
       "      <td>1652</td>\n",
       "      <td>8</td>\n",
       "      <td>5</td>\n",
       "      <td>392501</td>\n",
       "    </tr>\n",
       "    <tr>\n",
       "      <th>1458</th>\n",
       "      <td>1096</td>\n",
       "      <td>5</td>\n",
       "      <td>5</td>\n",
       "      <td>138805</td>\n",
       "    </tr>\n",
       "    <tr>\n",
       "      <th>1459</th>\n",
       "      <td>1593</td>\n",
       "      <td>6</td>\n",
       "      <td>5</td>\n",
       "      <td>193005</td>\n",
       "    </tr>\n",
       "  </tbody>\n",
       "</table>\n",
       "<p>1460 rows × 4 columns</p>\n",
       "</div>"
      ],
      "text/plain": [
       "       转发量  品类热度  流量推送     成交额\n",
       "0     2646     7     5  260004\n",
       "1      816     4     6  100004\n",
       "2     1224     6     5  164502\n",
       "3     1261     6     6  163001\n",
       "4     1720     7     5  260401\n",
       "...    ...   ...   ...     ...\n",
       "1455  1121     4     5  140001\n",
       "1456  1657     6     3  163503\n",
       "1457  1652     8     5  392501\n",
       "1458  1096     5     5  138805\n",
       "1459  1593     6     5  193005\n",
       "\n",
       "[1460 rows x 4 columns]"
      ]
     },
     "execution_count": 4,
     "metadata": {},
     "output_type": "execute_result"
    }
   ],
   "source": [
    "original_biz = pd.read_csv('直播带货.csv')\n",
    "original_biz"
   ]
  },
  {
   "cell_type": "markdown",
   "id": "d074ee8a-d987-4796-9d12-48b8ff5388aa",
   "metadata": {},
   "source": [
    "## 评估和清理数据"
   ]
  },
  {
   "cell_type": "markdown",
   "id": "647dcb45-2ce2-4ef3-839b-6d5851b540d0",
   "metadata": {},
   "source": [
    "在这一部分中，我们将对在上一部分建立的`original_biz`DataFrame所包含的数据进行评估和清理。\n",
    "\n",
    "主要从两个方面进行：**结构和内容**，即整齐度和干净度。\n",
    "\n",
    "> 数据的结构性问题:指不符合“每个变量为一列，每个观察值为一行，每种类型的观察单位为一个表格”这三个标准；  \n",
    "> 数据的内容性问题:包括存在丢失数据、重复数据、无效数据等。"
   ]
  },
  {
   "cell_type": "code",
   "execution_count": 5,
   "id": "f5a69d5b-ec33-4435-ba1d-a7d4603a4b1d",
   "metadata": {},
   "outputs": [],
   "source": [
    "#复制一份训练数据作为清理后的结果\n",
    "cleaned_biz = original_biz.copy()"
   ]
  },
  {
   "cell_type": "markdown",
   "id": "35032c39-89ba-439b-959b-66bc5b6fc1bc",
   "metadata": {},
   "source": [
    "### 数据整齐度"
   ]
  },
  {
   "cell_type": "code",
   "execution_count": 6,
   "id": "bd89d976-185f-4f2f-a152-bd7fa31f5f4e",
   "metadata": {},
   "outputs": [
    {
     "data": {
      "text/html": [
       "<div>\n",
       "<style scoped>\n",
       "    .dataframe tbody tr th:only-of-type {\n",
       "        vertical-align: middle;\n",
       "    }\n",
       "\n",
       "    .dataframe tbody tr th {\n",
       "        vertical-align: top;\n",
       "    }\n",
       "\n",
       "    .dataframe thead th {\n",
       "        text-align: right;\n",
       "    }\n",
       "</style>\n",
       "<table border=\"1\" class=\"dataframe\">\n",
       "  <thead>\n",
       "    <tr style=\"text-align: right;\">\n",
       "      <th></th>\n",
       "      <th>转发量</th>\n",
       "      <th>品类热度</th>\n",
       "      <th>流量推送</th>\n",
       "      <th>成交额</th>\n",
       "    </tr>\n",
       "  </thead>\n",
       "  <tbody>\n",
       "    <tr>\n",
       "      <th>0</th>\n",
       "      <td>2646</td>\n",
       "      <td>7</td>\n",
       "      <td>5</td>\n",
       "      <td>260004</td>\n",
       "    </tr>\n",
       "    <tr>\n",
       "      <th>1</th>\n",
       "      <td>816</td>\n",
       "      <td>4</td>\n",
       "      <td>6</td>\n",
       "      <td>100004</td>\n",
       "    </tr>\n",
       "    <tr>\n",
       "      <th>2</th>\n",
       "      <td>1224</td>\n",
       "      <td>6</td>\n",
       "      <td>5</td>\n",
       "      <td>164502</td>\n",
       "    </tr>\n",
       "    <tr>\n",
       "      <th>3</th>\n",
       "      <td>1261</td>\n",
       "      <td>6</td>\n",
       "      <td>6</td>\n",
       "      <td>163001</td>\n",
       "    </tr>\n",
       "    <tr>\n",
       "      <th>4</th>\n",
       "      <td>1720</td>\n",
       "      <td>7</td>\n",
       "      <td>5</td>\n",
       "      <td>260401</td>\n",
       "    </tr>\n",
       "    <tr>\n",
       "      <th>5</th>\n",
       "      <td>1541</td>\n",
       "      <td>7</td>\n",
       "      <td>5</td>\n",
       "      <td>220002</td>\n",
       "    </tr>\n",
       "    <tr>\n",
       "      <th>6</th>\n",
       "      <td>827</td>\n",
       "      <td>5</td>\n",
       "      <td>7</td>\n",
       "      <td>107503</td>\n",
       "    </tr>\n",
       "    <tr>\n",
       "      <th>7</th>\n",
       "      <td>866</td>\n",
       "      <td>5</td>\n",
       "      <td>9</td>\n",
       "      <td>110504</td>\n",
       "    </tr>\n",
       "    <tr>\n",
       "      <th>8</th>\n",
       "      <td>1314</td>\n",
       "      <td>8</td>\n",
       "      <td>5</td>\n",
       "      <td>229461</td>\n",
       "    </tr>\n",
       "    <tr>\n",
       "      <th>9</th>\n",
       "      <td>1431</td>\n",
       "      <td>6</td>\n",
       "      <td>5</td>\n",
       "      <td>165004</td>\n",
       "    </tr>\n",
       "  </tbody>\n",
       "</table>\n",
       "</div>"
      ],
      "text/plain": [
       "    转发量  品类热度  流量推送     成交额\n",
       "0  2646     7     5  260004\n",
       "1   816     4     6  100004\n",
       "2  1224     6     5  164502\n",
       "3  1261     6     6  163001\n",
       "4  1720     7     5  260401\n",
       "5  1541     7     5  220002\n",
       "6   827     5     7  107503\n",
       "7   866     5     9  110504\n",
       "8  1314     8     5  229461\n",
       "9  1431     6     5  165004"
      ]
     },
     "execution_count": 6,
     "metadata": {},
     "output_type": "execute_result"
    }
   ],
   "source": [
    "cleaned_biz.head(10)"
   ]
  },
  {
   "cell_type": "markdown",
   "id": "d4959f95-5e50-4e61-8285-cc1153778088",
   "metadata": {},
   "source": [
    "从头部的10行数据来看，数据符合“每个变量为一列，每个观察值为一行，每种类型的观察单位为一个表格”，因此不存在结构性问题。"
   ]
  },
  {
   "cell_type": "markdown",
   "id": "8428241a-b08c-448c-a913-7c072d54e09c",
   "metadata": {},
   "source": [
    "### 数据干净度"
   ]
  },
  {
   "cell_type": "code",
   "execution_count": 7,
   "id": "4e47e25d-b0d1-4b61-a002-5196c3e653a3",
   "metadata": {},
   "outputs": [
    {
     "name": "stdout",
     "output_type": "stream",
     "text": [
      "<class 'pandas.core.frame.DataFrame'>\n",
      "RangeIndex: 1460 entries, 0 to 1459\n",
      "Data columns (total 4 columns):\n",
      " #   Column  Non-Null Count  Dtype\n",
      "---  ------  --------------  -----\n",
      " 0   转发量     1460 non-null   int64\n",
      " 1   品类热度    1460 non-null   int64\n",
      " 2   流量推送    1460 non-null   int64\n",
      " 3   成交额     1460 non-null   int64\n",
      "dtypes: int64(4)\n",
      "memory usage: 45.8 KB\n"
     ]
    }
   ],
   "source": [
    "# 接下来通过`info`，对数据内容进行大致了解。\n",
    "cleaned_biz.info()"
   ]
  },
  {
   "cell_type": "markdown",
   "id": "ee9ed80e-0814-4e47-b180-4db192daddce",
   "metadata": {},
   "source": [
    "- 从输出结果来看，`cleaned_biz`共有1460条观察值，变量不存在缺失值, 所有数据均为数值变量，类型都是int64"
   ]
  },
  {
   "cell_type": "markdown",
   "id": "a7b142e8-c0f8-4189-b42b-03741020a8f2",
   "metadata": {},
   "source": [
    "#### 处理缺失数据\n",
    "从`info`方法的输出结果来看，`cleaned_biz`不存在缺失值，因此不需要对缺失数据进行处理。"
   ]
  },
  {
   "cell_type": "markdown",
   "id": "e1ee0451-1c8c-43cb-bda3-08bb17c3a276",
   "metadata": {},
   "source": [
    "#### 处理重复数据\n",
    "根据数据变量的含义以及内容来看，允许变量重复，我们不需要对此数据检查是否存在重复值。"
   ]
  },
  {
   "cell_type": "markdown",
   "id": "b1c67be9-d628-4996-94c5-421cc96c61aa",
   "metadata": {},
   "source": [
    "#### 处理不一致数据\n",
    "不一致数据可能存在于所有分类变量中，改数据不存在分类变量，所以没有不一致数据问题。"
   ]
  },
  {
   "cell_type": "markdown",
   "id": "31b3b232-8b6f-46f1-a43f-7094bdfd27c9",
   "metadata": {},
   "source": [
    "#### 处理无效或错误数据\n",
    "可以通过DataFrame的`describe`方法，对数值统计信息进行快速了解。"
   ]
  },
  {
   "cell_type": "code",
   "execution_count": 9,
   "id": "5a13740d-c8ac-47fd-ab0b-8b9a7bd64e23",
   "metadata": {},
   "outputs": [
    {
     "data": {
      "text/html": [
       "<div>\n",
       "<style scoped>\n",
       "    .dataframe tbody tr th:only-of-type {\n",
       "        vertical-align: middle;\n",
       "    }\n",
       "\n",
       "    .dataframe tbody tr th {\n",
       "        vertical-align: top;\n",
       "    }\n",
       "\n",
       "    .dataframe thead th {\n",
       "        text-align: right;\n",
       "    }\n",
       "</style>\n",
       "<table border=\"1\" class=\"dataframe\">\n",
       "  <thead>\n",
       "    <tr style=\"text-align: right;\">\n",
       "      <th></th>\n",
       "      <th>转发量</th>\n",
       "      <th>品类热度</th>\n",
       "      <th>流量推送</th>\n",
       "      <th>成交额</th>\n",
       "    </tr>\n",
       "  </thead>\n",
       "  <tbody>\n",
       "    <tr>\n",
       "      <th>count</th>\n",
       "      <td>1460.000000</td>\n",
       "      <td>1460.000000</td>\n",
       "      <td>1460.000000</td>\n",
       "      <td>1460.000000</td>\n",
       "    </tr>\n",
       "    <tr>\n",
       "      <th>mean</th>\n",
       "      <td>1515.463699</td>\n",
       "      <td>6.099315</td>\n",
       "      <td>5.575342</td>\n",
       "      <td>180924.184247</td>\n",
       "    </tr>\n",
       "    <tr>\n",
       "      <th>std</th>\n",
       "      <td>525.480383</td>\n",
       "      <td>1.382997</td>\n",
       "      <td>1.112799</td>\n",
       "      <td>79442.451375</td>\n",
       "    </tr>\n",
       "    <tr>\n",
       "      <th>min</th>\n",
       "      <td>334.000000</td>\n",
       "      <td>1.000000</td>\n",
       "      <td>1.000000</td>\n",
       "      <td>34905.000000</td>\n",
       "    </tr>\n",
       "    <tr>\n",
       "      <th>25%</th>\n",
       "      <td>1129.500000</td>\n",
       "      <td>5.000000</td>\n",
       "      <td>5.000000</td>\n",
       "      <td>129976.750000</td>\n",
       "    </tr>\n",
       "    <tr>\n",
       "      <th>50%</th>\n",
       "      <td>1464.000000</td>\n",
       "      <td>6.000000</td>\n",
       "      <td>5.000000</td>\n",
       "      <td>163003.500000</td>\n",
       "    </tr>\n",
       "    <tr>\n",
       "      <th>75%</th>\n",
       "      <td>1776.750000</td>\n",
       "      <td>7.000000</td>\n",
       "      <td>6.000000</td>\n",
       "      <td>214001.000000</td>\n",
       "    </tr>\n",
       "    <tr>\n",
       "      <th>max</th>\n",
       "      <td>5642.000000</td>\n",
       "      <td>10.000000</td>\n",
       "      <td>9.000000</td>\n",
       "      <td>755004.000000</td>\n",
       "    </tr>\n",
       "  </tbody>\n",
       "</table>\n",
       "</div>"
      ],
      "text/plain": [
       "               转发量         品类热度         流量推送            成交额\n",
       "count  1460.000000  1460.000000  1460.000000    1460.000000\n",
       "mean   1515.463699     6.099315     5.575342  180924.184247\n",
       "std     525.480383     1.382997     1.112799   79442.451375\n",
       "min     334.000000     1.000000     1.000000   34905.000000\n",
       "25%    1129.500000     5.000000     5.000000  129976.750000\n",
       "50%    1464.000000     6.000000     5.000000  163003.500000\n",
       "75%    1776.750000     7.000000     6.000000  214001.000000\n",
       "max    5642.000000    10.000000     9.000000  755004.000000"
      ]
     },
     "execution_count": 9,
     "metadata": {},
     "output_type": "execute_result"
    }
   ],
   "source": [
    "cleaned_biz.describe()"
   ]
  },
  {
   "cell_type": "markdown",
   "id": "9034eb14-29f9-4b93-abdb-2364981d67fe",
   "metadata": {},
   "source": [
    "从以上统计信息来看，`cleaned_biz`里不存在脱离现实意义的数值。"
   ]
  },
  {
   "cell_type": "markdown",
   "id": "4fc6a1e1-80ae-4ccf-be2e-22b5798afeba",
   "metadata": {},
   "source": [
    "## 用数据可视化观察数据分布情况"
   ]
  },
  {
   "cell_type": "code",
   "execution_count": 35,
   "id": "f309b957-e3f6-429e-9928-68bfd03945b7",
   "metadata": {},
   "outputs": [
    {
     "data": {
      "image/png": "[encoded data removed]",
      "text/plain": [
       "<Figure size 640x480 with 1 Axes>"
      ]
     },
     "metadata": {},
     "output_type": "display_data"
    }
   ],
   "source": [
    "# 设置图标字体，显示中文\n",
    "plt.rcParams['font.family']=['SimHei']\n",
    "plt.rcParams['font.sans-serif']=['SimHei']\n",
    "\n",
    "# 用来正常显示负号\n",
    "plt.rcParams['axes.unicode_minus']=False\n",
    "\n",
    "#用matplotlib.pyplot的plot方法显示散点图\n",
    "# plt.scatter(cleaned_biz['转发量'],cleaned_biz['成交额'],label='数据点',alpha=0.3)\n",
    "plt.plot(cleaned_biz['转发量'],cleaned_biz['成交额'],'b.', label='数据点',alpha=0.3) # 用matplotlib.pyplot的plot方法显示散点图\n",
    "plt.xlabel('转发量') #y轴label\n",
    "plt.ylabel('成交额') #x轴label\n",
    "plt.legend() #显示图例\n",
    "plt.show()"
   ]
  },
  {
   "cell_type": "markdown",
   "id": "487a36eb-fe25-4768-bbda-fe4724b8b9b1",
   "metadata": {},
   "source": [
    "## 构建线性回归模型"
   ]
  },
  {
   "cell_type": "markdown",
   "id": "95345066-78b7-4985-87bd-553da1dac25b",
   "metadata": {},
   "source": [
    "**线性**回归就是一个通过建立线性方程来表述自变量和因变量之间关系的分析方法  \n",
    "通过**回归线**我们可以根据自变量的值预测因变量的值，但是因变量有坑有多个，多个自变量放在一个一次多元方程中，即**多元线性回归**\n",
    "$$y=b_0+b_1x_1+b_2x_2+...+b_nx_n$$"
   ]
  },
  {
   "cell_type": "code",
   "execution_count": 11,
   "id": "352e57e4-b35e-4231-bb59-ab74f09d8d30",
   "metadata": {},
   "outputs": [
    {
     "data": {
      "text/html": [
       "<div>\n",
       "<style scoped>\n",
       "    .dataframe tbody tr th:only-of-type {\n",
       "        vertical-align: middle;\n",
       "    }\n",
       "\n",
       "    .dataframe tbody tr th {\n",
       "        vertical-align: top;\n",
       "    }\n",
       "\n",
       "    .dataframe thead th {\n",
       "        text-align: right;\n",
       "    }\n",
       "</style>\n",
       "<table border=\"1\" class=\"dataframe\">\n",
       "  <thead>\n",
       "    <tr style=\"text-align: right;\">\n",
       "      <th></th>\n",
       "      <th>转发量</th>\n",
       "      <th>品类热度</th>\n",
       "      <th>流量推送</th>\n",
       "    </tr>\n",
       "  </thead>\n",
       "  <tbody>\n",
       "    <tr>\n",
       "      <th>0</th>\n",
       "      <td>2646</td>\n",
       "      <td>7</td>\n",
       "      <td>5</td>\n",
       "    </tr>\n",
       "    <tr>\n",
       "      <th>1</th>\n",
       "      <td>816</td>\n",
       "      <td>4</td>\n",
       "      <td>6</td>\n",
       "    </tr>\n",
       "    <tr>\n",
       "      <th>2</th>\n",
       "      <td>1224</td>\n",
       "      <td>6</td>\n",
       "      <td>5</td>\n",
       "    </tr>\n",
       "    <tr>\n",
       "      <th>3</th>\n",
       "      <td>1261</td>\n",
       "      <td>6</td>\n",
       "      <td>6</td>\n",
       "    </tr>\n",
       "    <tr>\n",
       "      <th>4</th>\n",
       "      <td>1720</td>\n",
       "      <td>7</td>\n",
       "      <td>5</td>\n",
       "    </tr>\n",
       "  </tbody>\n",
       "</table>\n",
       "</div>"
      ],
      "text/plain": [
       "    转发量  品类热度  流量推送\n",
       "0  2646     7     5\n",
       "1   816     4     6\n",
       "2  1224     6     5\n",
       "3  1261     6     6\n",
       "4  1720     7     5"
      ]
     },
     "execution_count": 11,
     "metadata": {},
     "output_type": "execute_result"
    }
   ],
   "source": [
    "# 创建构建线性回归模型所需的因变量和自变量\n",
    "y = cleaned_biz.成交额 #标签集\n",
    "X=cleaned_biz.drop('成交额',axis=1) #特征集\n",
    "X.head()"
   ]
  },
  {
   "cell_type": "code",
   "execution_count": 12,
   "id": "cf5ecf76-c177-4f8c-a93f-7edde6c56a6a",
   "metadata": {},
   "outputs": [
    {
     "data": {
      "text/plain": [
       "0    260004\n",
       "1    100004\n",
       "2    164502\n",
       "3    163001\n",
       "4    260401\n",
       "Name: 成交额, dtype: int64"
      ]
     },
     "execution_count": 12,
     "metadata": {},
     "output_type": "execute_result"
    }
   ],
   "source": [
    "y.head()"
   ]
  },
  {
   "cell_type": "code",
   "execution_count": 37,
   "id": "f82f0c5e-38a7-4e2f-954e-d4943a8d99df",
   "metadata": {},
   "outputs": [],
   "source": [
    "# 将原始数据集进行80%（训练集）和20%（测试集）的分割\n",
    "X_train, X_test, y_train, y_test = train_test_split(X,y,test_size=0.2,random_state=0)"
   ]
  },
  {
   "cell_type": "code",
   "execution_count": 38,
   "id": "323a444c-79df-42a8-912a-6393f6bff966",
   "metadata": {},
   "outputs": [],
   "source": [
    "from sklearn.linear_model import LinearRegression #导入线性回归算法模型\n",
    "model = LinearRegression() #使用线性回归算法创建模型\n"
   ]
  },
  {
   "cell_type": "markdown",
   "id": "504e0cfc-5a40-4ab3-bbfd-7e7d203e2bfd",
   "metadata": {},
   "source": [
    "### 训练模型"
   ]
  },
  {
   "cell_type": "code",
   "execution_count": 39,
   "id": "da9034ba-9fe5-457f-ab1c-8bc20f775158",
   "metadata": {},
   "outputs": [
    {
     "data": {
      "text/html": [
       "<style>#sk-container-id-3 {color: black;}#sk-container-id-3 pre{padding: 0;}#sk-container-id-3 div.sk-toggleable {background-color: white;}#sk-container-id-3 label.sk-toggleable__label {cursor: pointer;display: block;width: 100%;margin-bottom: 0;padding: 0.3em;box-sizing: border-box;text-align: center;}#sk-container-id-3 label.sk-toggleable__label-arrow:before {content: \"▸\";float: left;margin-right: 0.25em;color: #696969;}#sk-container-id-3 label.sk-toggleable__label-arrow:hover:before {color: black;}#sk-container-id-3 div.sk-estimator:hover label.sk-toggleable__label-arrow:before {color: black;}#sk-container-id-3 div.sk-toggleable__content {max-height: 0;max-width: 0;overflow: hidden;text-align: left;background-color: #f0f8ff;}#sk-container-id-3 div.sk-toggleable__content pre {margin: 0.2em;color: black;border-radius: 0.25em;background-color: #f0f8ff;}#sk-container-id-3 input.sk-toggleable__control:checked~div.sk-toggleable__content {max-height: 200px;max-width: 100%;overflow: auto;}#sk-container-id-3 input.sk-toggleable__control:checked~label.sk-toggleable__label-arrow:before {content: \"▾\";}#sk-container-id-3 div.sk-estimator input.sk-toggleable__control:checked~label.sk-toggleable__label {background-color: #d4ebff;}#sk-container-id-3 div.sk-label input.sk-toggleable__control:checked~label.sk-toggleable__label {background-color: #d4ebff;}#sk-container-id-3 input.sk-hidden--visually {border: 0;clip: rect(1px 1px 1px 1px);clip: rect(1px, 1px, 1px, 1px);height: 1px;margin: -1px;overflow: hidden;padding: 0;position: absolute;width: 1px;}#sk-container-id-3 div.sk-estimator {font-family: monospace;background-color: #f0f8ff;border: 1px dotted black;border-radius: 0.25em;box-sizing: border-box;margin-bottom: 0.5em;}#sk-container-id-3 div.sk-estimator:hover {background-color: #d4ebff;}#sk-container-id-3 div.sk-parallel-item::after {content: \"\";width: 100%;border-bottom: 1px solid gray;flex-grow: 1;}#sk-container-id-3 div.sk-label:hover label.sk-toggleable__label {background-color: #d4ebff;}#sk-container-id-3 div.sk-serial::before {content: \"\";position: absolute;border-left: 1px solid gray;box-sizing: border-box;top: 0;bottom: 0;left: 50%;z-index: 0;}#sk-container-id-3 div.sk-serial {display: flex;flex-direction: column;align-items: center;background-color: white;padding-right: 0.2em;padding-left: 0.2em;position: relative;}#sk-container-id-3 div.sk-item {position: relative;z-index: 1;}#sk-container-id-3 div.sk-parallel {display: flex;align-items: stretch;justify-content: center;background-color: white;position: relative;}#sk-container-id-3 div.sk-item::before, #sk-container-id-3 div.sk-parallel-item::before {content: \"\";position: absolute;border-left: 1px solid gray;box-sizing: border-box;top: 0;bottom: 0;left: 50%;z-index: -1;}#sk-container-id-3 div.sk-parallel-item {display: flex;flex-direction: column;z-index: 1;position: relative;background-color: white;}#sk-container-id-3 div.sk-parallel-item:first-child::after {align-self: flex-end;width: 50%;}#sk-container-id-3 div.sk-parallel-item:last-child::after {align-self: flex-start;width: 50%;}#sk-container-id-3 div.sk-parallel-item:only-child::after {width: 0;}#sk-container-id-3 div.sk-dashed-wrapped {border: 1px dashed gray;margin: 0 0.4em 0.5em 0.4em;box-sizing: border-box;padding-bottom: 0.4em;background-color: white;}#sk-container-id-3 div.sk-label label {font-family: monospace;font-weight: bold;display: inline-block;line-height: 1.2em;}#sk-container-id-3 div.sk-label-container {text-align: center;}#sk-container-id-3 div.sk-container {/* jupyter's `normalize.less` sets `[hidden] { display: none; }` but bootstrap.min.css set `[hidden] { display: none !important; }` so we also need the `!important` here to be able to override the default hidden behavior on the sphinx rendered scikit-learn.org. See: https://github.com/scikit-learn/scikit-learn/issues/21755 */display: inline-block !important;position: relative;}#sk-container-id-3 div.sk-text-repr-fallback {display: none;}</style><div id=\"sk-container-id-3\" class=\"sk-top-container\"><div class=\"sk-text-repr-fallback\"><pre>LinearRegression()</pre><b>In a Jupyter environment, please rerun this cell to show the HTML representation or trust the notebook. <br />On GitHub, the HTML representation is unable to render, please try loading this page with nbviewer.org.</b></div><div class=\"sk-container\" hidden><div class=\"sk-item\"><div class=\"sk-estimator sk-toggleable\"><input class=\"sk-toggleable__control sk-hidden--visually\" id=\"sk-estimator-id-3\" type=\"checkbox\" checked><label for=\"sk-estimator-id-3\" class=\"sk-toggleable__label sk-toggleable__label-arrow\">LinearRegression</label><div class=\"sk-toggleable__content\"><pre>LinearRegression()</pre></div></div></div></div></div>"
      ],
      "text/plain": [
       "LinearRegression()"
      ]
     },
     "execution_count": 39,
     "metadata": {},
     "output_type": "execute_result"
    }
   ],
   "source": [
    "model.fit(X_train, y_train) #用训练集数据，训练机器，拟合函数，确定参数（斜率，截距）"
   ]
  },
  {
   "cell_type": "code",
   "execution_count": 40,
   "id": "70aad868-49da-49e9-b731-e671d703e041",
   "metadata": {},
   "outputs": [
    {
     "name": "stdout",
     "output_type": "stream",
     "text": [
      "线性回归预测集评分： 0.662399563560639\n",
      "线性回归训练集评分： 0.7293166018868376\n"
     ]
    }
   ],
   "source": [
    "print(\"线性回归测试集评分：\",model.score(X_test, y_test))#评估模型\n",
    "print(\"线性回归训练集评分：\",model.score(X_train,y_train))#训练集评分"
   ]
  },
  {
   "cell_type": "markdown",
   "id": "3ee2b204-07dc-4919-9bf5-ad897bf1a9b8",
   "metadata": {},
   "source": [
    "### 预测集测试"
   ]
  },
  {
   "cell_type": "code",
   "execution_count": 43,
   "id": "84296f5c-a635-4143-84f3-4c94299be1b5",
   "metadata": {},
   "outputs": [
    {
     "data": {
      "text/html": [
       "<div>\n",
       "<style scoped>\n",
       "    .dataframe tbody tr th:only-of-type {\n",
       "        vertical-align: middle;\n",
       "    }\n",
       "\n",
       "    .dataframe tbody tr th {\n",
       "        vertical-align: top;\n",
       "    }\n",
       "\n",
       "    .dataframe thead th {\n",
       "        text-align: right;\n",
       "    }\n",
       "</style>\n",
       "<table border=\"1\" class=\"dataframe\">\n",
       "  <thead>\n",
       "    <tr style=\"text-align: right;\">\n",
       "      <th></th>\n",
       "      <th>转发量</th>\n",
       "      <th>品类热度</th>\n",
       "      <th>流量推送</th>\n",
       "      <th>成交额真值</th>\n",
       "      <th>成交额预测值</th>\n",
       "    </tr>\n",
       "  </thead>\n",
       "  <tbody>\n",
       "    <tr>\n",
       "      <th>529</th>\n",
       "      <td>1378</td>\n",
       "      <td>7</td>\n",
       "      <td>9</td>\n",
       "      <td>161003</td>\n",
       "      <td>204516.360122</td>\n",
       "    </tr>\n",
       "    <tr>\n",
       "      <th>491</th>\n",
       "      <td>2090</td>\n",
       "      <td>7</td>\n",
       "      <td>5</td>\n",
       "      <td>207504</td>\n",
       "      <td>242936.889154</td>\n",
       "    </tr>\n",
       "    <tr>\n",
       "      <th>459</th>\n",
       "      <td>2207</td>\n",
       "      <td>7</td>\n",
       "      <td>5</td>\n",
       "      <td>180004</td>\n",
       "      <td>249664.428319</td>\n",
       "    </tr>\n",
       "    <tr>\n",
       "      <th>279</th>\n",
       "      <td>1382</td>\n",
       "      <td>6</td>\n",
       "      <td>5</td>\n",
       "      <td>176002</td>\n",
       "      <td>169916.207270</td>\n",
       "    </tr>\n",
       "    <tr>\n",
       "      <th>655</th>\n",
       "      <td>1556</td>\n",
       "      <td>6</td>\n",
       "      <td>6</td>\n",
       "      <td>154003</td>\n",
       "      <td>180551.192841</td>\n",
       "    </tr>\n",
       "    <tr>\n",
       "      <th>...</th>\n",
       "      <td>...</td>\n",
       "      <td>...</td>\n",
       "      <td>...</td>\n",
       "      <td>...</td>\n",
       "      <td>...</td>\n",
       "    </tr>\n",
       "    <tr>\n",
       "      <th>326</th>\n",
       "      <td>1574</td>\n",
       "      <td>8</td>\n",
       "      <td>5</td>\n",
       "      <td>232003</td>\n",
       "      <td>245577.161314</td>\n",
       "    </tr>\n",
       "    <tr>\n",
       "      <th>440</th>\n",
       "      <td>833</td>\n",
       "      <td>5</td>\n",
       "      <td>7</td>\n",
       "      <td>117001</td>\n",
       "      <td>107297.933262</td>\n",
       "    </tr>\n",
       "    <tr>\n",
       "      <th>1387</th>\n",
       "      <td>1797</td>\n",
       "      <td>7</td>\n",
       "      <td>5</td>\n",
       "      <td>213501</td>\n",
       "      <td>226089.291075</td>\n",
       "    </tr>\n",
       "    <tr>\n",
       "      <th>1323</th>\n",
       "      <td>804</td>\n",
       "      <td>5</td>\n",
       "      <td>7</td>\n",
       "      <td>119001</td>\n",
       "      <td>105630.423555</td>\n",
       "    </tr>\n",
       "    <tr>\n",
       "      <th>61</th>\n",
       "      <td>1302</td>\n",
       "      <td>6</td>\n",
       "      <td>7</td>\n",
       "      <td>158002</td>\n",
       "      <td>166576.035143</td>\n",
       "    </tr>\n",
       "  </tbody>\n",
       "</table>\n",
       "<p>292 rows × 5 columns</p>\n",
       "</div>"
      ],
      "text/plain": [
       "       转发量  品类热度  流量推送   成交额真值         成交额预测值\n",
       "529   1378     7     9  161003  204516.360122\n",
       "491   2090     7     5  207504  242936.889154\n",
       "459   2207     7     5  180004  249664.428319\n",
       "279   1382     6     5  176002  169916.207270\n",
       "655   1556     6     6  154003  180551.192841\n",
       "...    ...   ...   ...     ...            ...\n",
       "326   1574     8     5  232003  245577.161314\n",
       "440    833     5     7  117001  107297.933262\n",
       "1387  1797     7     5  213501  226089.291075\n",
       "1323   804     5     7  119001  105630.423555\n",
       "61    1302     6     7  158002  166576.035143\n",
       "\n",
       "[292 rows x 5 columns]"
      ]
     },
     "execution_count": 43,
     "metadata": {},
     "output_type": "execute_result"
    }
   ],
   "source": [
    "y_predict = model.predict(X_test) #给测试集的x值，预测y值\n",
    "df_biz_predict = X_test.copy() #测试集特征值拷贝 \n",
    "df_biz_predict['成交额真值'] = y_test #增加一列放置测试集标签真值\n",
    "df_biz_predict['成交额预测值'] = y_predict  #增加一列放置测试集标签预测值\n",
    "df_biz_predict"
   ]
  },
  {
   "cell_type": "markdown",
   "id": "604c124d-0b28-4a28-8432-6c72bee2a7fc",
   "metadata": {},
   "source": [
    "### 用一个特征和标签展示线性回归图形"
   ]
  },
  {
   "cell_type": "code",
   "execution_count": 47,
   "id": "343e98c4-cc7d-4560-ade3-1d97fe0f50e7",
   "metadata": {},
   "outputs": [
    {
     "data": {
      "image/png": "[encoded data removed]",
      "text/plain": [
       "<Figure size 1000x600 with 1 Axes>"
      ]
     },
     "metadata": {},
     "output_type": "display_data"
    }
   ],
   "source": [
    "# 分离特征库和标签\n",
    "X=cleaned_biz[['转发量']]\n",
    "y=cleaned_biz.成交额\n",
    "\n",
    "# 划分训练集合测试集\n",
    "X_train, X_test, y_train, y_test = train_test_split(X, y, test_size=0.2, random_state=0)\n",
    "\n",
    "# 使用线性回归模型\n",
    "model = LinearRegression()\n",
    "model.fit(X_train, y_train)\n",
    "\n",
    "# 预测\n",
    "y_pred = model.predict(X_test)\n",
    "\n",
    "### 绘制预测直线\n",
    "plt.figure(figsize=(10,6))\n",
    "plt.scatter(X_test,y_test,color=\"blue\", label=\"真实值\",alpha=0.3)\n",
    "plt.plot(X_test,y_pred,color=\"red\",linewidth=2,label=\"预测直线\")\n",
    "plt.xlabel('转发量')\n",
    "plt.ylabel('成交额')\n",
    "plt.title('转发量 vs 成交额')\n",
    "plt.legend()\n",
    "plt.grid(True)\n",
    "plt.show()"
   ]
  },
  {
   "cell_type": "code",
   "execution_count": null,
   "id": "6bfa3440-5594-42d7-9875-f4367c8e1a88",
   "metadata": {},
   "outputs": [],
   "source": []
  }
 ],
 "metadata": {
  "kernelspec": {
   "display_name": "Python 3 (ipykernel)",
   "language": "python",
   "name": "python3"
  },
  "language_info": {
   "codemirror_mode": {
    "name": "ipython",
    "version": 3
   },
   "file_extension": ".py",
   "mimetype": "text/x-python",
   "name": "python",
   "nbconvert_exporter": "python",
   "pygments_lexer": "ipython3",
   "version": "3.12.0"
  }
 },
 "nbformat": 4,
 "nbformat_minor": 5
}
